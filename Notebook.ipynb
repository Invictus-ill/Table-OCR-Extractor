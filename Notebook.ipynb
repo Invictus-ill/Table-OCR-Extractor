{
 "cells": [
  {
   "cell_type": "code",
   "execution_count": null,
   "id": "4474a037",
   "metadata": {},
   "outputs": [],
   "source": [
    "!pip install fitz\n",
    "!pip install PyMuPDF\n",
    "!pip install pytesseract"
   ]
  },
  {
   "cell_type": "code",
   "execution_count": 3,
   "id": "09019ac8",
   "metadata": {},
   "outputs": [
    {
     "ename": "ModuleNotFoundError",
     "evalue": "No module named 'fitz'",
     "output_type": "error",
     "traceback": [
      "\u001b[0;31m---------------------------------------------------------------------------\u001b[0m",
      "\u001b[0;31mModuleNotFoundError\u001b[0m                       Traceback (most recent call last)",
      "\u001b[0;32m/var/folders/6g/z0zdkstd1pl9cjyt77ntqnmh0000gn/T/ipykernel_3854/2546336880.py\u001b[0m in \u001b[0;36m<module>\u001b[0;34m\u001b[0m\n\u001b[1;32m      1\u001b[0m \u001b[0;32mimport\u001b[0m \u001b[0mmatplotlib\u001b[0m\u001b[0;34m.\u001b[0m\u001b[0mpyplot\u001b[0m \u001b[0;32mas\u001b[0m \u001b[0mplt\u001b[0m\u001b[0;34m\u001b[0m\u001b[0;34m\u001b[0m\u001b[0m\n\u001b[0;32m----> 2\u001b[0;31m \u001b[0;32mimport\u001b[0m \u001b[0mlibutil\u001b[0m\u001b[0;34m\u001b[0m\u001b[0;34m\u001b[0m\u001b[0m\n\u001b[0m\u001b[1;32m      3\u001b[0m \u001b[0;32mimport\u001b[0m \u001b[0mlibtable\u001b[0m \u001b[0;32mas\u001b[0m \u001b[0mlt\u001b[0m\u001b[0;34m\u001b[0m\u001b[0;34m\u001b[0m\u001b[0m\n\u001b[1;32m      4\u001b[0m \u001b[0;32mimport\u001b[0m \u001b[0mlibocr\u001b[0m\u001b[0;34m\u001b[0m\u001b[0;34m\u001b[0m\u001b[0m\n",
      "\u001b[0;32m~/Documents/GitHub/Table-OCR-Extractor/libutil.py\u001b[0m in \u001b[0;36m<module>\u001b[0;34m\u001b[0m\n\u001b[1;32m      1\u001b[0m \u001b[0;34m'''PDF Analysis utility functions and bounding box operations'''\u001b[0m\u001b[0;34m\u001b[0m\u001b[0;34m\u001b[0m\u001b[0m\n\u001b[0;32m----> 2\u001b[0;31m \u001b[0;32mimport\u001b[0m \u001b[0mfitz\u001b[0m  \u001b[0;31m# <-- install fitz, mupdf\u001b[0m\u001b[0;34m\u001b[0m\u001b[0;34m\u001b[0m\u001b[0m\n\u001b[0m\u001b[1;32m      3\u001b[0m \u001b[0;32mimport\u001b[0m \u001b[0mnumpy\u001b[0m \u001b[0;32mas\u001b[0m \u001b[0mnp\u001b[0m\u001b[0;34m\u001b[0m\u001b[0;34m\u001b[0m\u001b[0m\n\u001b[1;32m      4\u001b[0m \u001b[0;32mimport\u001b[0m \u001b[0mcv2\u001b[0m \u001b[0;32mas\u001b[0m \u001b[0mcv\u001b[0m\u001b[0;34m\u001b[0m\u001b[0;34m\u001b[0m\u001b[0m\n\u001b[1;32m      5\u001b[0m \u001b[0;32mimport\u001b[0m \u001b[0mos\u001b[0m\u001b[0;34m\u001b[0m\u001b[0;34m\u001b[0m\u001b[0m\n",
      "\u001b[0;31mModuleNotFoundError\u001b[0m: No module named 'fitz'"
     ]
    }
   ],
   "source": [
    "import matplotlib.pyplot as plt\n",
    "import libutil\n",
    "import libtable as lt\n",
    "import libocr"
   ]
  },
  {
   "cell_type": "code",
   "execution_count": null,
   "id": "862c26ac",
   "metadata": {},
   "outputs": [],
   "source": [
    "images = libutil.pdf2images('data\\\\SIMPLE.pdf', zoom=2) # load images\n",
    "image = images[0] # pick the first image\n",
    "plt.figure(figsize=(8, 15))\n",
    "plt.imshow(image, cmap='gray')\n",
    "plt.show()"
   ]
  },
  {
   "cell_type": "code",
   "execution_count": null,
   "id": "140b573a",
   "metadata": {},
   "outputs": [],
   "source": [
    "blur_thresh = 10 # <---- starting with a value of 10e a result similar to the\n",
    "kernel_ratio=0.01\n",
    "table_img = lt.get_tabular_image(image, blur_thresh=blur_thresh, kernel_ratio=kernel_ratio)\n",
    "plt.figure(figsize=(8, 15))\n",
    "plt.imshow(table_img, cmap='gray_r')\n",
    "plt.show()"
   ]
  },
  {
   "cell_type": "code",
   "execution_count": null,
   "id": "1d5a8cb1",
   "metadata": {},
   "outputs": [],
   "source": [
    "blur_thresh = 60 # <------- increased to 60\n",
    "kernel_ratio=0.01\n",
    "table_img = lt.get_tabular_image(image, blur_thresh=blur_thresh, kernel_ratio=kernel_ratio)\n",
    "plt.figure(figsize=(8, 15))\n",
    "plt.imshow(table_img, cmap='gray_r')\n",
    "plt.show()"
   ]
  },
  {
   "cell_type": "code",
   "execution_count": null,
   "id": "811acb8b",
   "metadata": {},
   "outputs": [],
   "source": [
    "blur_thresh = 60\n",
    "kernel_ratio=0.01\n",
    "tables = lt.get_tables_in_image(image, blur_thresh=blur_thresh, kernel_ratio=kernel_ratio,\n",
    " min_cell_size=10, min_table_width_ratio=0.001)"
   ]
  },
  {
   "cell_type": "code",
   "execution_count": null,
   "id": "343fcaec",
   "metadata": {},
   "outputs": [],
   "source": [
    "imm = lt.get_tabled_mask(image, tables, thickness=2)\n",
    "plt.figure(figsize=(8, 15))\n",
    "plt.imshow(imm, cmap='gray')\n",
    "plt.show()"
   ]
  },
  {
   "cell_type": "code",
   "execution_count": null,
   "id": "fc8172e6",
   "metadata": {},
   "outputs": [],
   "source": [
    "table = tables[0]"
   ]
  },
  {
   "cell_type": "code",
   "execution_count": null,
   "id": "eb5219f2",
   "metadata": {},
   "outputs": [],
   "source": [
    "imm = table.preview(numbered=True)\n",
    "plt.figure(figsize=(15, 6))\n",
    "plt.imshow(imm, cmap='gray')\n",
    "plt.show()"
   ]
  },
  {
   "cell_type": "code",
   "execution_count": null,
   "id": "f203eb65",
   "metadata": {},
   "outputs": [],
   "source": [
    "table.fill_from_image(image, border_pad=1)"
   ]
  },
  {
   "cell_type": "code",
   "execution_count": null,
   "id": "cf35af65",
   "metadata": {},
   "outputs": [],
   "source": [
    "table.print(pad=3)"
   ]
  },
  {
   "cell_type": "code",
   "execution_count": null,
   "id": "82021825",
   "metadata": {},
   "outputs": [],
   "source": [
    "js = table.as_json(include_data=False, as_dict=False)\n",
    "print(js)"
   ]
  },
  {
   "cell_type": "code",
   "execution_count": null,
   "id": "75e262f4",
   "metadata": {},
   "outputs": [],
   "source": [
    "\n",
    "images = libutil.pdf2images('data\\\\INVOICE.pdf', zoom=2)\n",
    "image = images[0]\n",
    "plt.figure(figsize=(8, 15))\n",
    "plt.imshow(image, cmap='gray')\n",
    "plt.show()"
   ]
  },
  {
   "cell_type": "code",
   "execution_count": null,
   "id": "1dd096bc",
   "metadata": {},
   "outputs": [],
   "source": [
    "blur_thresh = 50\n",
    "kernel_ratio=0.01\n",
    "table_img = lt.get_tabular_image(image, blur_thresh=blur_thresh, kernel_ratio=kernel_ratio)\n",
    "plt.figure(figsize=(8, 15))\n",
    "plt.imshow(table_img, cmap='gray_r')\n",
    "plt.show()"
   ]
  },
  {
   "cell_type": "code",
   "execution_count": null,
   "id": "d6bc09fe",
   "metadata": {},
   "outputs": [],
   "source": [
    "tables = lt.get_tables_in_image(image, blur_thresh=blur_thresh, kernel_ratio=kernel_ratio,\n",
    " min_cell_size=10, min_table_width_ratio=0.001)\n",
    "imm = lt.get_tabled_mask(image, tables, thickness=2)\n",
    "plt.figure(figsize=(8, 15))\n",
    "plt.imshow(imm, cmap='gray')\n",
    "plt.show()"
   ]
  },
  {
   "cell_type": "code",
   "execution_count": null,
   "id": "1b329b4b",
   "metadata": {},
   "outputs": [],
   "source": [
    "tables[0].fill_from_image(image)\n",
    "tables[0].print()"
   ]
  },
  {
   "cell_type": "code",
   "execution_count": null,
   "id": "90f9619a",
   "metadata": {},
   "outputs": [],
   "source": [
    "\n",
    "import cv2 as cv\n",
    "image = cv.imread('data\\\\tabular.PNG')\n",
    "plt.figure(figsize=(15, 6))\n",
    "plt.imshow(image, cmap='gray')\n",
    "plt.show()"
   ]
  },
  {
   "cell_type": "code",
   "execution_count": null,
   "id": "24278209",
   "metadata": {},
   "outputs": [],
   "source": [
    "blur_thresh = 50 # <--- I set a lower value here for demonstration\n",
    "kernel_ratio=0.01\n",
    "table_img = lt.get_tabular_image(image, blur_thresh=blur_thresh, kernel_ratio=kernel_ratio)\n",
    "plt.figure(figsize=(15, 6))\n",
    "plt.imshow(table_img, cmap='gray_r')\n",
    "plt.show()"
   ]
  },
  {
   "cell_type": "code",
   "execution_count": null,
   "id": "429ff095",
   "metadata": {},
   "outputs": [],
   "source": [
    "blur_thresh = 90\n",
    "kernel_ratio=0.01\n",
    "table_img = lt.get_tabular_image(image, blur_thresh=blur_thresh, kernel_ratio=kernel_ratio)\n",
    "plt.figure(figsize=(15, 6))\n",
    "plt.imshow(table_img, cmap='gray_r')\n",
    "plt.show()"
   ]
  },
  {
   "cell_type": "code",
   "execution_count": null,
   "id": "86706604",
   "metadata": {},
   "outputs": [],
   "source": [
    "tables = lt.get_tables_in_image(image, blur_thresh=blur_thresh, kernel_ratio=kernel_ratio,\n",
    " min_cell_size=10, min_table_width_ratio=0.001)\n",
    "imm = lt.get_tabled_mask(image, tables, thickness=2)\n",
    "plt.figure(figsize=(15, 6))\n",
    "plt.imshow(imm, cmap='gray')\n",
    "plt.show()"
   ]
  },
  {
   "cell_type": "code",
   "execution_count": null,
   "id": "78b82c78",
   "metadata": {},
   "outputs": [],
   "source": [
    "tables[0].fill_from_image(image)\n",
    "tables[0].print()"
   ]
  },
  {
   "cell_type": "code",
   "execution_count": null,
   "id": "86d073a5",
   "metadata": {},
   "outputs": [],
   "source": []
  }
 ],
 "metadata": {
  "kernelspec": {
   "display_name": "Python 3 (ipykernel)",
   "language": "python",
   "name": "python3"
  },
  "language_info": {
   "codemirror_mode": {
    "name": "ipython",
    "version": 3
   },
   "file_extension": ".py",
   "mimetype": "text/x-python",
   "name": "python",
   "nbconvert_exporter": "python",
   "pygments_lexer": "ipython3",
   "version": "3.9.7"
  }
 },
 "nbformat": 4,
 "nbformat_minor": 5
}
